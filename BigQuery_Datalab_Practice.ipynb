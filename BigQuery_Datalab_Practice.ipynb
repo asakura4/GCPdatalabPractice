{
 "cells": [
  {
   "cell_type": "markdown",
   "metadata": {},
   "source": [
    "### Querying and visualizing BigQuery data\n",
    "\n",
    "In this section of the tutorial, you create a Google Cloud Datalab notebook used to query and visualize data in BigQuery. You create visualizations using the data in the natality sample table. All queries in this tutorial are in standard SQL syntax."
   ]
  },
  {
   "cell_type": "markdown",
   "metadata": {},
   "source": [
    "BigQuery commands are invoked using the escape sequence %%bq, which instructs the session to treat the content of the cell as something other than Python. "
   ]
  },
  {
   "cell_type": "code",
   "execution_count": 9,
   "metadata": {
    "collapsed": false
   },
   "outputs": [
    {
     "data": {
      "text/html": [
       "\n",
       "    <div class=\"bqtv\" id=\"2_153420719662\"><table><tr><th>year</th><th>birth_count</th></tr><tr><td>2008</td><td>4255156</td></tr><tr><td>2007</td><td>4324008</td></tr><tr><td>2006</td><td>4273225</td></tr><tr><td>2005</td><td>4145619</td></tr><tr><td>2004</td><td>4118907</td></tr><tr><td>2003</td><td>4096092</td></tr><tr><td>2002</td><td>4027376</td></tr><tr><td>2001</td><td>4031531</td></tr><tr><td>2000</td><td>4063823</td></tr><tr><td>1999</td><td>3963465</td></tr><tr><td>1998</td><td>3945192</td></tr><tr><td>1997</td><td>3884329</td></tr><tr><td>1996</td><td>3894874</td></tr><tr><td>1995</td><td>3903012</td></tr><tr><td>1994</td><td>3956925</td></tr></table></div>\n",
       "    <br />(rows: 15, time: 0.3s, cached, job: job_58OZwgYVghEAXFFLqtOkcbNR8oQJ)<br />\n",
       "    <script src=\"/static/components/requirejs/require.js\"></script>\n",
       "    <script>\n",
       "      require.config({\n",
       "        paths: {\n",
       "          base: '/static/base',\n",
       "          d3: '//cdnjs.cloudflare.com/ajax/libs/d3/3.4.13/d3',\n",
       "          plotly: 'https://cdn.plot.ly/plotly-1.5.1.min.js?noext',\n",
       "          jquery: '//ajax.googleapis.com/ajax/libs/jquery/2.0.0/jquery.min'\n",
       "        },\n",
       "        map: {\n",
       "          '*': {\n",
       "            datalab: 'nbextensions/gcpdatalab'\n",
       "          }\n",
       "        },\n",
       "        shim: {\n",
       "          plotly: {\n",
       "            deps: ['d3', 'jquery'],\n",
       "            exports: 'plotly'\n",
       "          }\n",
       "        }\n",
       "      });\n",
       "\n",
       "      require(['datalab/charting', 'datalab/element!2_153420719662', 'base/js/events',\n",
       "          'datalab/style!/nbextensions/gcpdatalab/charting.css'],\n",
       "        function(charts, dom, events) {\n",
       "          charts.render('gcharts', dom, events, 'table', [], {\"rows\": [{\"c\": [{\"v\": \"2008\"}, {\"v\": 4255156}]}, {\"c\": [{\"v\": \"2007\"}, {\"v\": 4324008}]}, {\"c\": [{\"v\": \"2006\"}, {\"v\": 4273225}]}, {\"c\": [{\"v\": \"2005\"}, {\"v\": 4145619}]}, {\"c\": [{\"v\": \"2004\"}, {\"v\": 4118907}]}, {\"c\": [{\"v\": \"2003\"}, {\"v\": 4096092}]}, {\"c\": [{\"v\": \"2002\"}, {\"v\": 4027376}]}, {\"c\": [{\"v\": \"2001\"}, {\"v\": 4031531}]}, {\"c\": [{\"v\": \"2000\"}, {\"v\": 4063823}]}, {\"c\": [{\"v\": \"1999\"}, {\"v\": 3963465}]}, {\"c\": [{\"v\": \"1998\"}, {\"v\": 3945192}]}, {\"c\": [{\"v\": \"1997\"}, {\"v\": 3884329}]}, {\"c\": [{\"v\": \"1996\"}, {\"v\": 3894874}]}, {\"c\": [{\"v\": \"1995\"}, {\"v\": 3903012}]}, {\"c\": [{\"v\": \"1994\"}, {\"v\": 3956925}]}], \"cols\": [{\"type\": \"string\", \"id\": \"year\", \"label\": \"year\"}, {\"type\": \"number\", \"id\": \"birth_count\", \"label\": \"birth_count\"}]},\n",
       "            {\n",
       "              pageSize: 25,\n",
       "              cssClassNames:  {\n",
       "                tableRow: 'gchart-table-row',\n",
       "                headerRow: 'gchart-table-headerrow',\n",
       "                oddTableRow: 'gchart-table-oddrow',\n",
       "                selectedTableRow: 'gchart-table-selectedrow',\n",
       "                hoverTableRow: 'gchart-table-hoverrow',\n",
       "                tableCell: 'gchart-table-cell',\n",
       "                headerCell: 'gchart-table-headercell',\n",
       "                rowNumberCell: 'gchart-table-rownumcell'\n",
       "              }\n",
       "            },\n",
       "            {source_index: 0, fields: 'year,birth_count'},\n",
       "            0,\n",
       "            15);\n",
       "        }\n",
       "      );\n",
       "    </script>\n",
       "  "
      ],
      "text/plain": [
       "QueryResultsTable job_58OZwgYVghEAXFFLqtOkcbNR8oQJ"
      ]
     },
     "execution_count": 9,
     "metadata": {},
     "output_type": "execute_result"
    }
   ],
   "source": [
    "%%bq query\n",
    "#SQL query to return total births by year\n",
    "SELECT CAST(source_year AS string) AS year, COUNT(is_male) AS birth_count\n",
    "FROM `publicdata.samples.natality`\n",
    "GROUP BY year\n",
    "ORDER BY year DESC\n",
    "LIMIT 15"
   ]
  },
  {
   "cell_type": "markdown",
   "metadata": {},
   "source": [
    "Notice the query job details appear below the query results. The details include the query processing time, the amount of data processed, and the job ID."
   ]
  },
  {
   "cell_type": "markdown",
   "metadata": {},
   "source": [
    "In next query, the --name flag is added. This query object can then be passed to a chart by referencing the name, and the chart will execute the contained query."
   ]
  },
  {
   "cell_type": "code",
   "execution_count": 16,
   "metadata": {
    "collapsed": false
   },
   "outputs": [],
   "source": [
    "%%bq query --name total_births\n",
    "#SQL query to return total births by year\n",
    "SELECT CAST(source_year AS string) AS year, COUNT(is_male) AS birth_count\n",
    "FROM `publicdata.samples.natality`\n",
    "GROUP BY year\n",
    "ORDER BY year DESC\n",
    "LIMIT 15"
   ]
  },
  {
   "cell_type": "code",
   "execution_count": 19,
   "metadata": {
    "collapsed": false
   },
   "outputs": [
    {
     "data": {
      "text/html": [
       "\n",
       "    <div class=\"bqgc-container\">\n",
       "      \n",
       "      <div class=\"bqgc \" id=\"2_153420734649\">\n",
       "      </div>\n",
       "    </div>\n",
       "    <script src=\"/static/components/requirejs/require.js\"></script>\n",
       "    <script>\n",
       "\n",
       "      require.config({\n",
       "        paths: {\n",
       "          base: '/static/base',\n",
       "          d3: '//cdnjs.cloudflare.com/ajax/libs/d3/3.4.13/d3',\n",
       "          plotly: 'https://cdn.plot.ly/plotly-1.5.1.min.js?noext',\n",
       "          jquery: '//ajax.googleapis.com/ajax/libs/jquery/2.0.0/jquery.min'\n",
       "        },\n",
       "        map: {\n",
       "          '*': {\n",
       "            datalab: 'nbextensions/gcpdatalab'\n",
       "          }\n",
       "        },\n",
       "        shim: {\n",
       "          plotly: {\n",
       "            deps: ['d3', 'jquery'],\n",
       "            exports: 'plotly'\n",
       "          }\n",
       "        }\n",
       "      });\n",
       "\n",
       "      require(['datalab/charting',\n",
       "               'datalab/element!2_153420734649',\n",
       "               'base/js/events',\n",
       "               'datalab/style!/nbextensions/gcpdatalab/charting.css'\n",
       "              ],\n",
       "        function(charts, dom, events) {\n",
       "          charts.render(\n",
       "              'gcharts',\n",
       "              dom,\n",
       "              events,\n",
       "              'columns',\n",
       "              [],\n",
       "              {\"rows\": [{\"c\": [{\"v\": \"2008\"}, {\"v\": 4255156}]}, {\"c\": [{\"v\": \"2007\"}, {\"v\": 4324008}]}, {\"c\": [{\"v\": \"2006\"}, {\"v\": 4273225}]}, {\"c\": [{\"v\": \"2005\"}, {\"v\": 4145619}]}, {\"c\": [{\"v\": \"2004\"}, {\"v\": 4118907}]}, {\"c\": [{\"v\": \"2003\"}, {\"v\": 4096092}]}, {\"c\": [{\"v\": \"2002\"}, {\"v\": 4027376}]}, {\"c\": [{\"v\": \"2001\"}, {\"v\": 4031531}]}, {\"c\": [{\"v\": \"2000\"}, {\"v\": 4063823}]}, {\"c\": [{\"v\": \"1999\"}, {\"v\": 3963465}]}, {\"c\": [{\"v\": \"1998\"}, {\"v\": 3945192}]}, {\"c\": [{\"v\": \"1997\"}, {\"v\": 3884329}]}, {\"c\": [{\"v\": \"1996\"}, {\"v\": 3894874}]}, {\"c\": [{\"v\": \"1995\"}, {\"v\": 3903012}]}, {\"c\": [{\"v\": \"1994\"}, {\"v\": 3956925}]}], \"cols\": [{\"type\": \"string\", \"id\": \"year\", \"label\": \"year\"}, {\"type\": \"number\", \"id\": \"birth_count\", \"label\": \"birth_count\"}]},\n",
       "              {},\n",
       "              {\"fields\": \"year,birth_count\", \"source_index\": 0, \"name\": 0},\n",
       "              0,\n",
       "              15);\n",
       "          }\n",
       "        );\n",
       "    </script>\n",
       "  "
      ],
      "text/plain": [
       "<IPython.core.display.HTML object>"
      ]
     },
     "execution_count": 19,
     "metadata": {},
     "output_type": "execute_result"
    },
    {
     "data": {
      "image/png": "[encoded data removed]"
     },
     "metadata": {
      "source_id": "2_153420734649"
     },
     "output_type": "display_data"
    }
   ],
   "source": [
    "%chart columns --data total_births --fields year,birth_count"
   ]
  },
  {
   "cell_type": "markdown",
   "metadata": {},
   "source": [
    "following querey retrieves the number of births by weekday"
   ]
  },
  {
   "cell_type": "code",
   "execution_count": 20,
   "metadata": {
    "collapsed": true
   },
   "outputs": [],
   "source": [
    "%%bq query --name births_by_weekday\n",
    "SELECT CAST(wday AS string) AS weekday, \n",
    "SUM(CASE WHEN is_male THEN 1 ELSE 0 END) AS male_births, \n",
    "SUM(CASE WHEN is_male THEN 0 ELSE 1 END) AS female_births\n",
    "FROM `publicdata.samples.natality`\n",
    "WHERE wday IS NOT NULL\n",
    "GROUP BY weekday\n",
    "ORDER BY weekday ASC"
   ]
  },
  {
   "cell_type": "code",
   "execution_count": 22,
   "metadata": {
    "collapsed": false
   },
   "outputs": [
    {
     "data": {
      "text/html": [
       "\n",
       "    <div class=\"bqgc-container\">\n",
       "      \n",
       "      <div class=\"bqgc \" id=\"3_153420746322\">\n",
       "      </div>\n",
       "    </div>\n",
       "    <script src=\"/static/components/requirejs/require.js\"></script>\n",
       "    <script>\n",
       "\n",
       "      require.config({\n",
       "        paths: {\n",
       "          base: '/static/base',\n",
       "          d3: '//cdnjs.cloudflare.com/ajax/libs/d3/3.4.13/d3',\n",
       "          plotly: 'https://cdn.plot.ly/plotly-1.5.1.min.js?noext',\n",
       "          jquery: '//ajax.googleapis.com/ajax/libs/jquery/2.0.0/jquery.min'\n",
       "        },\n",
       "        map: {\n",
       "          '*': {\n",
       "            datalab: 'nbextensions/gcpdatalab'\n",
       "          }\n",
       "        },\n",
       "        shim: {\n",
       "          plotly: {\n",
       "            deps: ['d3', 'jquery'],\n",
       "            exports: 'plotly'\n",
       "          }\n",
       "        }\n",
       "      });\n",
       "\n",
       "      require(['datalab/charting',\n",
       "               'datalab/element!3_153420746322',\n",
       "               'base/js/events',\n",
       "               'datalab/style!/nbextensions/gcpdatalab/charting.css'\n",
       "              ],\n",
       "        function(charts, dom, events) {\n",
       "          charts.render(\n",
       "              'gcharts',\n",
       "              dom,\n",
       "              events,\n",
       "              'line',\n",
       "              [],\n",
       "              {\"rows\": [{\"c\": [{\"v\": \"1\"}, {\"v\": 4293575}, {\"v\": 4093357}]}, {\"c\": [{\"v\": \"2\"}, {\"v\": 6095840}, {\"v\": 5831111}]}, {\"c\": [{\"v\": \"3\"}, {\"v\": 6727217}, {\"v\": 6412155}]}, {\"c\": [{\"v\": \"4\"}, {\"v\": 6618729}, {\"v\": 6307782}]}, {\"c\": [{\"v\": \"5\"}, {\"v\": 6583015}, {\"v\": 6284434}]}, {\"c\": [{\"v\": \"6\"}, {\"v\": 6518636}, {\"v\": 6223584}]}, {\"c\": [{\"v\": \"7\"}, {\"v\": 4761950}, {\"v\": 4530052}]}], \"cols\": [{\"type\": \"string\", \"id\": \"weekday\", \"label\": \"weekday\"}, {\"type\": \"number\", \"id\": \"male_births\", \"label\": \"male_births\"}, {\"type\": \"number\", \"id\": \"female_births\", \"label\": \"female_births\"}]},\n",
       "              {},\n",
       "              {\"fields\": \"weekday,male_births,female_births\", \"source_index\": 1, \"name\": 1},\n",
       "              0,\n",
       "              7);\n",
       "          }\n",
       "        );\n",
       "    </script>\n",
       "  "
      ],
      "text/plain": [
       "<IPython.core.display.HTML object>"
      ]
     },
     "execution_count": 22,
     "metadata": {},
     "output_type": "execute_result"
    },
    {
     "data": {
      "image/png": "[encoded data removed]"
     },
     "metadata": {
      "source_id": "3_153420746322"
     },
     "output_type": "display_data"
    }
   ],
   "source": [
    "%chart line --data births_by_weekday --fields weekday,male_births,female_births"
   ]
  }
 ],
 "metadata": {
  "kernelspec": {
   "display_name": "Python 2",
   "language": "python",
   "name": "python2"
  },
  "language_info": {
   "codemirror_mode": {
    "name": "ipython",
    "version": 2
   },
   "file_extension": ".py",
   "mimetype": "text/x-python",
   "name": "python",
   "nbconvert_exporter": "python",
   "pygments_lexer": "ipython2",
   "version": "2.7.15"
  }
 },
 "nbformat": 4,
 "nbformat_minor": 2
}
